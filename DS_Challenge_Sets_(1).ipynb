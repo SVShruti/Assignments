{
  "cells": [
    {
      "cell_type": "markdown",
      "metadata": {
        "id": "view-in-github",
        "colab_type": "text"
      },
      "source": [
        "<a href=\"https://colab.research.google.com/github/SVShruti/Assignments/blob/main/DS_Challenge_Sets_(1).ipynb\" target=\"_parent\"><img src=\"https://colab.research.google.com/assets/colab-badge.svg\" alt=\"Open In Colab\"/></a>"
      ]
    },
    {
      "cell_type": "markdown",
      "id": "6240fbf0-a271-4fce-8783-712cd2a44bdb",
      "metadata": {
        "id": "6240fbf0-a271-4fce-8783-712cd2a44bdb"
      },
      "source": [
        "# Day 7 : Challenge Questions- Dictionary\n",
        "\n",
        "Solve Each of the Below Questions and Submit Your Answers on Linked in Post within 48 Hours. Attach Screenshots Preferably. If you are not able to Solve, comment \"Unable to Solve\" or \"Need More Time\""
      ]
    },
    {
      "cell_type": "markdown",
      "id": "32d8ec23-5d12-4579-b3c1-d8d9f5298535",
      "metadata": {
        "id": "32d8ec23-5d12-4579-b3c1-d8d9f5298535"
      },
      "source": [
        "# Question 1: Understanding Set Operations and Methods\n",
        "\n",
        "**Creating and Accessing Sets**\n",
        "\n",
        "1. Create a set A containing the elements: {2, 4, 6, 8, 10}.\n",
        "2. Create another set B with the elements: {1, 2, 3, 4, 5}.\n",
        "3. Verify if the element 6 is in set A and if 7 is not in set B.\n",
        "\n",
        "**Set Operations**\n",
        "\n",
        "1. Find the union of sets A and B.\n",
        "2. Determine the intersection of sets A and B.\n",
        "3. Compute the difference of set A from set B.\n",
        "\n",
        "**Modifying Sets**\n",
        "\n",
        "1. Add the elements 12 and 14 to set A.\n",
        "2. Remove the element 3 from set B.\n",
        "3. Clear all elements from set A and confirm its emptiness.\n"
      ]
    },
    {
      "cell_type": "code",
      "execution_count": 12,
      "id": "01097859-466f-4c87-96d7-6ffbfa5f43c7",
      "metadata": {
        "colab": {
          "base_uri": "https://localhost:8080/"
        },
        "id": "01097859-466f-4c87-96d7-6ffbfa5f43c7",
        "outputId": "26c2a69c-b25b-4756-e984-364a4a0c6abf"
      },
      "outputs": [
        {
          "output_type": "stream",
          "name": "stdout",
          "text": [
            "{2, 4, 6, 8, 10}\n",
            "{1, 2, 3, 4, 5}\n",
            "6\n",
            "True\n"
          ]
        }
      ],
      "source": [
        "#creating and accessing the set\n",
        "#1.Create a set A containing the elements: {2, 4, 6, 8, 10}\n",
        "A= {2,4,6,8,10}\n",
        "print(A)\n",
        "\n",
        "#2. Create another set B with the elements: {1, 2, 3, 4, 5}.\n",
        "B={1, 2, 3, 4, 5}\n",
        "print(B)\n",
        "#Verify if the element 6 is in set A and if 7 is not in set B. for 6 in A:\n",
        "#print(6 in A)\n",
        "for a in A:\n",
        "  if a==6:\n",
        "    print(a)\n",
        "#for 7 not in B:\n",
        "print(7 not in B)"
      ]
    },
    {
      "cell_type": "code",
      "execution_count": 19,
      "id": "07084cbf-f6dd-4c04-a4e5-3c6c2472a41b",
      "metadata": {
        "colab": {
          "base_uri": "https://localhost:8080/"
        },
        "id": "07084cbf-f6dd-4c04-a4e5-3c6c2472a41b",
        "outputId": "8dadcafb-7968-4b82-af8c-25974bf47bee"
      },
      "outputs": [
        {
          "output_type": "stream",
          "name": "stdout",
          "text": [
            "{1, 2, 3, 4, 5, 6, 8, 10}\n",
            "{2, 4}\n",
            "{8, 10, 6}\n"
          ]
        }
      ],
      "source": [
        "# Set Operations\n",
        "\n",
        "#1. Find the union of sets A and B.\n",
        "c= A.union(B)\n",
        "print(c)\n",
        "\n",
        "#2. Determine the intersection of sets A and B.\n",
        "d= A.intersection(B)\n",
        "print (d)\n",
        "\n",
        "\n",
        "#3. Compute the difference of set A from set B. A= {2,4,6,8,10} B={1, 2, 3, 4, 5}\n",
        "\n",
        "e= A.difference(B)\n",
        "print(e)\n",
        "\n",
        "\n",
        "#difference= A-B\n",
        "#print(difference)\n"
      ]
    },
    {
      "cell_type": "code",
      "source": [
        "#Modifying Sets\n",
        "\n",
        "#1. Add the elements 12 and 14 to set\n",
        "A.add(12)\n",
        "A.add(14)\n",
        "print(A)\n",
        "\n",
        "#2. Remove the element 3 from set B.\n",
        "B.remove(3)\n",
        "print(B)\n",
        "#3. Clear all elements from set A and confirm its emptiness.\n",
        "\n",
        "A.clear()\n",
        "print(A)\n",
        "\n"
      ],
      "metadata": {
        "colab": {
          "base_uri": "https://localhost:8080/"
        },
        "id": "ZK549lxBbuEa",
        "outputId": "cd594620-af57-48c1-bc7d-7068b3058e1f"
      },
      "id": "ZK549lxBbuEa",
      "execution_count": 30,
      "outputs": [
        {
          "output_type": "stream",
          "name": "stdout",
          "text": [
            "{2, 4, 6, 8, 10, 12, 14}\n",
            "set()\n"
          ]
        }
      ]
    }
  ],
  "metadata": {
    "kernelspec": {
      "display_name": "Python 3 (ipykernel)",
      "language": "python",
      "name": "python3"
    },
    "language_info": {
      "codemirror_mode": {
        "name": "ipython",
        "version": 3
      },
      "file_extension": ".py",
      "mimetype": "text/x-python",
      "name": "python",
      "nbconvert_exporter": "python",
      "pygments_lexer": "ipython3",
      "version": "3.11.8"
    },
    "colab": {
      "provenance": [],
      "include_colab_link": true
    }
  },
  "nbformat": 4,
  "nbformat_minor": 5
}