{
  "cells": [
    {
      "cell_type": "markdown",
      "metadata": {
        "id": "view-in-github",
        "colab_type": "text"
      },
      "source": [
        "<a href=\"https://colab.research.google.com/github/SVShruti/Assignments/blob/main/ForLoop_Assignment.ipynb\" target=\"_parent\"><img src=\"https://colab.research.google.com/assets/colab-badge.svg\" alt=\"Open In Colab\"/></a>"
      ]
    },
    {
      "cell_type": "markdown",
      "id": "482260fe-2993-428c-b503-1790f5bb9488",
      "metadata": {
        "id": "482260fe-2993-428c-b503-1790f5bb9488"
      },
      "source": [
        "# Python Challenge Questions: For Loop"
      ]
    },
    {
      "cell_type": "markdown",
      "id": "e54a1fff-4da8-48db-a941-de92c9383219",
      "metadata": {
        "id": "e54a1fff-4da8-48db-a941-de92c9383219"
      },
      "source": [
        "# Question 1:\n",
        "\n",
        "Given a nested list of integers, write a Python code using a for loop and list comprehension to flatten the nested list and then create a new list that contains only the square of each even number from the flattened list.\n",
        "\n",
        "**Expected Output**\n",
        "\n",
        "[4, 16, 36, 64, 100]\n"
      ]
    },
    {
      "cell_type": "code",
      "execution_count": 12,
      "id": "8b430c36-fdda-48d5-94c3-ad73174d5383",
      "metadata": {
        "id": "8b430c36-fdda-48d5-94c3-ad73174d5383",
        "outputId": "8ece5710-2568-4703-90bf-a2df98712c13",
        "colab": {
          "base_uri": "https://localhost:8080/"
        }
      },
      "outputs": [
        {
          "output_type": "stream",
          "name": "stdout",
          "text": [
            "[4, 16, 36, 64, 100]\n"
          ]
        }
      ],
      "source": [
        "nested_list = [[1, 2, 3], [4, 5, 6], [7, 8, 9], [10]]\n",
        "\n",
        "list = []\n",
        "for i in nested_list:\n",
        "    for j in i:\n",
        "        list.append(j)\n",
        "square_list = [x**2 for x in li if x%2==0]\n",
        "print(square_list)\n"
      ]
    },
    {
      "cell_type": "markdown",
      "id": "75bf6ef9-cbfd-4a5f-a9d3-49b2b5f426dc",
      "metadata": {
        "id": "75bf6ef9-cbfd-4a5f-a9d3-49b2b5f426dc"
      },
      "source": [
        "# Question 2:\n",
        "\n",
        "You have a list of strings where each string represents a sentence. Write a Python code using a for loop and while loop to count the number of vowels in each sentence. Store the results in a dictionary where the key is the sentence and the value is the count of vowels in that sentence.\n",
        "\n",
        "**Expected Output"
      ]
    },
    {
      "cell_type": "code",
      "source": [
        "#list=[str1, str2, str3]\n",
        "#dict={str1: vowel1, str2: vowel2}\n",
        "\n",
        "list= [\" India is my country.\",\" We won today.\", \" I like Python(JK!)\" ]\n",
        "vowels=\"aeiouAEIOU\"\n",
        "dict={}\n",
        "\n",
        "for i in list:\n",
        "  count=0\n",
        "  print(i)\n",
        "  for j in i:\n",
        "    if j in vowels:\n",
        "         count=count+1\n",
        "\n",
        "  dict[i]= count\n",
        "print(dict)\n",
        "\n",
        "\n"
      ],
      "metadata": {
        "id": "HosN21pkXsJd",
        "outputId": "d0175b34-d02b-4bb1-eae7-822c73a3ef5d",
        "colab": {
          "base_uri": "https://localhost:8080/"
        }
      },
      "id": "HosN21pkXsJd",
      "execution_count": 11,
      "outputs": [
        {
          "output_type": "stream",
          "name": "stdout",
          "text": [
            " India is my country.\n",
            " We won today.\n",
            " I like Python(JK!)\n",
            "{' India is my country.': 6, ' We won today.': 4, ' I like Python(JK!)': 4}\n"
          ]
        }
      ]
    }
  ],
  "metadata": {
    "kernelspec": {
      "display_name": "Python 3 (ipykernel)",
      "language": "python",
      "name": "python3"
    },
    "language_info": {
      "codemirror_mode": {
        "name": "ipython",
        "version": 3
      },
      "file_extension": ".py",
      "mimetype": "text/x-python",
      "name": "python",
      "nbconvert_exporter": "python",
      "pygments_lexer": "ipython3",
      "version": "3.11.8"
    },
    "colab": {
      "provenance": [],
      "include_colab_link": true
    }
  },
  "nbformat": 4,
  "nbformat_minor": 5
}